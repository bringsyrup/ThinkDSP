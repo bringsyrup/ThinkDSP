{
 "metadata": {
  "name": "",
  "signature": "sha256:ab957e09add21088ad835dde9e8c3fafc9f32ed7c5282d6072809012817fd326"
 },
 "nbformat": 3,
 "nbformat_minor": 0,
 "worksheets": []
}